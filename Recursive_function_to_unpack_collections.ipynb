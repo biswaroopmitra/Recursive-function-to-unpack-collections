{
  "nbformat": 4,
  "nbformat_minor": 0,
  "metadata": {
    "colab": {
      "name": "Recursive_function_to_unpack_collections.ipynb",
      "provenance": [],
      "collapsed_sections": [],
      "authorship_tag": "ABX9TyNWvEkipFE7ySpWalhAoCfs"
    },
    "kernelspec": {
      "name": "python3",
      "display_name": "Python 3"
    },
    "language_info": {
      "name": "python"
    }
  },
  "cells": [
    {
      "cell_type": "code",
      "source": [
        "#Defining the recursive function\n",
        "\n",
        "def unpack_collections(a):\n",
        "    if isinstance(a, dict):\n",
        "      for key in a.keys():\n",
        "        yield from unpack_collections(key)\n",
        "      for val in a.values():\n",
        "        yield from unpack_collections(val)\n",
        "    elif isinstance(a, list):\n",
        "        for num in a:\n",
        "            yield from unpack_collections(num)\n",
        "    elif isinstance(a, tuple):\n",
        "      for element in a:\n",
        "        yield from unpack_collections(element)\n",
        "    else:\n",
        "      yield a"
      ],
      "metadata": {
        "id": "Yx4Q5u8SKw1I"
      },
      "execution_count": 28,
      "outputs": []
    },
    {
      "cell_type": "code",
      "source": [
        "mix = {'a':[1, 2, 3, {'b': [6, 7, 8]}], 'c': [4, 5, {'d': [12, 45, 56, {'e': [-7, -9, -5]}]}], 'f': (20, 30, 40, 50)}\n",
        "\n",
        "for member in unpack_collections(mix):\n",
        "  print(member)"
      ],
      "metadata": {
        "colab": {
          "base_uri": "https://localhost:8080/"
        },
        "id": "DKnBjthaFZ58",
        "outputId": "6f1c7d28-3c90-4c0b-baba-71ca80cba0a8"
      },
      "execution_count": 29,
      "outputs": [
        {
          "output_type": "stream",
          "name": "stdout",
          "text": [
            "a\n",
            "c\n",
            "f\n",
            "1\n",
            "2\n",
            "3\n",
            "b\n",
            "6\n",
            "7\n",
            "8\n",
            "4\n",
            "5\n",
            "d\n",
            "12\n",
            "45\n",
            "56\n",
            "e\n",
            "-7\n",
            "-9\n",
            "-5\n",
            "20\n",
            "30\n",
            "40\n",
            "50\n"
          ]
        }
      ]
    },
    {
      "cell_type": "code",
      "source": [
        "new_mix = [{'a': [1, 2, 3, 4, 5], 'b': (6, 7)}, (14, 15, 16), [{'c': (10, 20, 30), 'd': {'e': [60, 90, 100]}}]]\n",
        "\n",
        "for member in unpack_collections(new_mix):\n",
        "  print(member)"
      ],
      "metadata": {
        "colab": {
          "base_uri": "https://localhost:8080/"
        },
        "id": "h2EtD3HJYjhn",
        "outputId": "d2c38c9d-6ccc-408c-9a97-0d28013e0e8a"
      },
      "execution_count": 30,
      "outputs": [
        {
          "output_type": "stream",
          "name": "stdout",
          "text": [
            "a\n",
            "b\n",
            "1\n",
            "2\n",
            "3\n",
            "4\n",
            "5\n",
            "6\n",
            "7\n",
            "14\n",
            "15\n",
            "16\n",
            "c\n",
            "d\n",
            "10\n",
            "20\n",
            "30\n",
            "e\n",
            "60\n",
            "90\n",
            "100\n"
          ]
        }
      ]
    }
  ]
}